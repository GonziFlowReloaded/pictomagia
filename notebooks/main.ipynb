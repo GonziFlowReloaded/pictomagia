{
 "cells": [
  {
   "cell_type": "code",
   "execution_count": 46,
   "metadata": {},
   "outputs": [],
   "source": [
    "html_template = \"\"\"\n",
    "<!DOCTYPE html>\n",
    "<html lang=\"es\">\n",
    "<head>\n",
    "    <meta charset=\"UTF-8\">\n",
    "    <meta name=\"viewport\" content=\"width=device-width, initial-scale=1.0\">\n",
    "    <title>Pictomagia</title>\n",
    "    <!-- Integrar Tailwind CSS -->\n",
    "    <link rel=\"stylesheet\" href=\"pictograma.css\">\n",
    "\n",
    "</head>\n",
    "<body>\n",
    "    <div class=\"div-padre\">\n",
    "        <form class=\"card shadow-md rounded-lg p-6\" style=\"border: 3px solid black;\">\n",
    "    <div class=\"div-imagen-input\">\n",
    "        {% if nombre_nene %}\n",
    "            <p class=\"text-center text-2xl font-bold\">{{ nombre_nene }}</p>\n",
    "        {% endif %}\n",
    "\n",
    "        <div class=\"div-imagen\">\n",
    "            <img src=\"{{ ruta_img }}\" alt=\"Pictograma\" class=\"imagen-jeta\">\n",
    "        </div>\n",
    "    </div>\n",
    "    <img src=\"{{ ruta_pictograma }}\" alt=\"Pictograma\" class=\"pictograma\">\n",
    "</form>\n",
    "\n",
    "        \n",
    "    </div>\n",
    "\n",
    "    \n",
    "</body>\n",
    "</html>\n",
    "\n",
    "\"\"\""
   ]
  },
  {
   "cell_type": "code",
   "execution_count": 52,
   "metadata": {},
   "outputs": [],
   "source": [
    "import io\n",
    "from reportlab.pdfgen import canvas\n",
    "from reportlab.lib.pagesizes import letter\n",
    "from xhtml2pdf import pisa\n",
    "from jinja2 import Template\n",
    "\n",
    "# Define el HTML\n",
    "html_template = \"\"\"\n",
    "<!DOCTYPE html>\n",
    "<html lang=\"es\">\n",
    "<head>\n",
    "    <meta charset=\"UTF-8\">\n",
    "    <meta name=\"viewport\" content=\"width=device-width, initial-scale=1.0\">\n",
    "    <title>Pictomagia</title>\n",
    "    <!-- Integrar Tailwind CSS -->\n",
    "    <link href=\"https://cdn.jsdelivr.net/npm/tailwindcss@2.2.19/dist/tailwind.min.css\" rel=\"stylesheet\">\n",
    "    <link href=\"https://fonts.googleapis.com/css2?family=Quicksand:wght@300;400;500;600;700&display=swap\" rel=\"stylesheet\">\n",
    "    <link rel=\"stylesheet\" href=\"pictograma.css\">\n",
    "</head>\n",
    "<body>\n",
    "    <div class=\"div-padre\">\n",
    "        <form class=\"card shadow-md rounded-lg p-6\" style=\"border: 3px solid black;\">\n",
    "            <div class=\"div-imagen-input\">\n",
    "                {% if nombre_nene %}\n",
    "                    <p class=\"text-center text-2xl font-bold\">{{ nombre_nene }}</p>\n",
    "                {% endif %}\n",
    "                <div class=\"div-imagen\">\n",
    "                    <img src=\"{{ ruta_img }}\" alt=\"Pictograma\" class=\"imagen-jeta\">\n",
    "                </div>\n",
    "            </div>\n",
    "            <img src=\"{{ ruta_pictograma }}\" alt=\"Pictograma\" class=\"pictograma\">\n",
    "        </form>\n",
    "    </div>\n",
    "</body>\n",
    "</html>\n",
    "\"\"\"\n",
    "\n",
    "# Renderiza el HTML con los datos proporcionados\n",
    "template = Template(html_template)\n",
    "html_code = template.render(ruta_img=\"default-photo.png\", ruta_pictograma=\"1.png\", nombre_nene=\"Juanitssdo\")\n",
    "\n",
    "# Guarda el HTML en un archivo\n",
    "with open(\"out.html\", \"w\", encoding=\"utf-8\") as file:\n",
    "    file.write(html_code)\n",
    "\n",
    "from pyhtml2pdf import converter\n",
    "converter.convert(r'file:///C:/Users/gonza/Desktop/repopepo/si%20el%20infierno%20existe%20es%20este%20tp/notebooks/out.html', \"out.pdf\")"
   ]
  },
  {
   "cell_type": "code",
   "execution_count": 48,
   "metadata": {},
   "outputs": [
    {
     "ename": "OSError",
     "evalue": "wkhtmltopdf reported an error:\nExit with code 1 due to network error: ConnectionRefusedError\r\n",
     "output_type": "error",
     "traceback": [
      "\u001b[1;31m---------------------------------------------------------------------------\u001b[0m",
      "\u001b[1;31mOSError\u001b[0m                                   Traceback (most recent call last)",
      "Cell \u001b[1;32mIn[48], line 7\u001b[0m\n\u001b[0;32m      3\u001b[0m url \u001b[38;5;241m=\u001b[39m \u001b[38;5;124m\"\u001b[39m\u001b[38;5;124mhttp://127.0.0.1:8000/pdf_generate\u001b[39m\u001b[38;5;124m\"\u001b[39m\n\u001b[0;32m      5\u001b[0m config \u001b[38;5;241m=\u001b[39m pdfkit\u001b[38;5;241m.\u001b[39mconfiguration(wkhtmltopdf\u001b[38;5;241m=\u001b[39m\u001b[38;5;124m\"\u001b[39m\u001b[38;5;124mC:\u001b[39m\u001b[38;5;130;01m\\\\\u001b[39;00m\u001b[38;5;124mProgram Files\u001b[39m\u001b[38;5;130;01m\\\\\u001b[39;00m\u001b[38;5;124mwkhtmltopdf\u001b[39m\u001b[38;5;130;01m\\\\\u001b[39;00m\u001b[38;5;124mbin\u001b[39m\u001b[38;5;130;01m\\\\\u001b[39;00m\u001b[38;5;124mwkhtmltopdf.exe\u001b[39m\u001b[38;5;124m\"\u001b[39m)\n\u001b[1;32m----> 7\u001b[0m \u001b[43mpdfkit\u001b[49m\u001b[38;5;241;43m.\u001b[39;49m\u001b[43mfrom_url\u001b[49m\u001b[43m(\u001b[49m\u001b[43murl\u001b[49m\u001b[43m,\u001b[49m\u001b[43m \u001b[49m\u001b[38;5;124;43m\"\u001b[39;49m\u001b[38;5;124;43mout.pdf\u001b[39;49m\u001b[38;5;124;43m\"\u001b[39;49m\u001b[43m,\u001b[49m\u001b[43m \u001b[49m\u001b[43mconfiguration\u001b[49m\u001b[38;5;241;43m=\u001b[39;49m\u001b[43mconfig\u001b[49m\u001b[43m)\u001b[49m\n",
      "File \u001b[1;32mc:\\Users\\gonza\\Desktop\\repopepo\\si el infierno existe es este tp\\env\\lib\\site-packages\\pdfkit\\api.py:27\u001b[0m, in \u001b[0;36mfrom_url\u001b[1;34m(url, output_path, options, toc, cover, configuration, cover_first, verbose)\u001b[0m\n\u001b[0;32m      9\u001b[0m \u001b[38;5;250m\u001b[39m\u001b[38;5;124;03m\"\"\"\u001b[39;00m\n\u001b[0;32m     10\u001b[0m \u001b[38;5;124;03mConvert file of files from URLs to PDF document\u001b[39;00m\n\u001b[0;32m     11\u001b[0m \n\u001b[1;32m   (...)\u001b[0m\n\u001b[0;32m     21\u001b[0m \u001b[38;5;124;03mReturns: True on success\u001b[39;00m\n\u001b[0;32m     22\u001b[0m \u001b[38;5;124;03m\"\"\"\u001b[39;00m\n\u001b[0;32m     24\u001b[0m r \u001b[38;5;241m=\u001b[39m PDFKit(url, \u001b[38;5;124m'\u001b[39m\u001b[38;5;124murl\u001b[39m\u001b[38;5;124m'\u001b[39m, options\u001b[38;5;241m=\u001b[39moptions, toc\u001b[38;5;241m=\u001b[39mtoc, cover\u001b[38;5;241m=\u001b[39mcover,\n\u001b[0;32m     25\u001b[0m            configuration\u001b[38;5;241m=\u001b[39mconfiguration, cover_first\u001b[38;5;241m=\u001b[39mcover_first, verbose\u001b[38;5;241m=\u001b[39mverbose)\n\u001b[1;32m---> 27\u001b[0m \u001b[38;5;28;01mreturn\u001b[39;00m \u001b[43mr\u001b[49m\u001b[38;5;241;43m.\u001b[39;49m\u001b[43mto_pdf\u001b[49m\u001b[43m(\u001b[49m\u001b[43moutput_path\u001b[49m\u001b[43m)\u001b[49m\n",
      "File \u001b[1;32mc:\\Users\\gonza\\Desktop\\repopepo\\si el infierno existe es este tp\\env\\lib\\site-packages\\pdfkit\\pdfkit.py:201\u001b[0m, in \u001b[0;36mPDFKit.to_pdf\u001b[1;34m(self, path)\u001b[0m\n\u001b[0;32m    199\u001b[0m stderr \u001b[38;5;241m=\u001b[39m stderr\u001b[38;5;241m.\u001b[39mdecode(\u001b[38;5;124m'\u001b[39m\u001b[38;5;124mutf-8\u001b[39m\u001b[38;5;124m'\u001b[39m, errors\u001b[38;5;241m=\u001b[39m\u001b[38;5;124m'\u001b[39m\u001b[38;5;124mreplace\u001b[39m\u001b[38;5;124m'\u001b[39m)\n\u001b[0;32m    200\u001b[0m exit_code \u001b[38;5;241m=\u001b[39m result\u001b[38;5;241m.\u001b[39mreturncode\n\u001b[1;32m--> 201\u001b[0m \u001b[38;5;28;43mself\u001b[39;49m\u001b[38;5;241;43m.\u001b[39;49m\u001b[43mhandle_error\u001b[49m\u001b[43m(\u001b[49m\u001b[43mexit_code\u001b[49m\u001b[43m,\u001b[49m\u001b[43m \u001b[49m\u001b[43mstderr\u001b[49m\u001b[43m)\u001b[49m\n\u001b[0;32m    203\u001b[0m \u001b[38;5;66;03m# Since wkhtmltopdf sends its output to stderr we will capture it\u001b[39;00m\n\u001b[0;32m    204\u001b[0m \u001b[38;5;66;03m# and properly send to stdout\u001b[39;00m\n\u001b[0;32m    205\u001b[0m \u001b[38;5;28;01mif\u001b[39;00m \u001b[38;5;124m'\u001b[39m\u001b[38;5;124m--quiet\u001b[39m\u001b[38;5;124m'\u001b[39m \u001b[38;5;129;01mnot\u001b[39;00m \u001b[38;5;129;01min\u001b[39;00m args:\n",
      "File \u001b[1;32mc:\\Users\\gonza\\Desktop\\repopepo\\si el infierno existe es este tp\\env\\lib\\site-packages\\pdfkit\\pdfkit.py:155\u001b[0m, in \u001b[0;36mPDFKit.handle_error\u001b[1;34m(exit_code, stderr)\u001b[0m\n\u001b[0;32m    149\u001b[0m     \u001b[38;5;28;01mraise\u001b[39;00m \u001b[38;5;167;01mIOError\u001b[39;00m(\u001b[38;5;124m'\u001b[39m\u001b[38;5;132;01m%s\u001b[39;00m\u001b[38;5;130;01m\\n\u001b[39;00m\u001b[38;5;124m'\u001b[39m\n\u001b[0;32m    150\u001b[0m                   \u001b[38;5;124m'\u001b[39m\u001b[38;5;124mYou will need to run wkhtmltopdf within a \u001b[39m\u001b[38;5;124m\"\u001b[39m\u001b[38;5;124mvirtual\u001b[39m\u001b[38;5;124m\"\u001b[39m\u001b[38;5;124m X server.\u001b[39m\u001b[38;5;130;01m\\n\u001b[39;00m\u001b[38;5;124m'\u001b[39m\n\u001b[0;32m    151\u001b[0m                   \u001b[38;5;124m'\u001b[39m\u001b[38;5;124mGo to the link below for more information\u001b[39m\u001b[38;5;130;01m\\n\u001b[39;00m\u001b[38;5;124m'\u001b[39m\n\u001b[0;32m    152\u001b[0m                   \u001b[38;5;124m'\u001b[39m\u001b[38;5;124mhttps://github.com/JazzCore/python-pdfkit/wiki/Using-wkhtmltopdf-without-X-server\u001b[39m\u001b[38;5;124m'\u001b[39m \u001b[38;5;241m%\u001b[39m stderr)\n\u001b[0;32m    154\u001b[0m \u001b[38;5;28;01mif\u001b[39;00m \u001b[38;5;124m'\u001b[39m\u001b[38;5;124mError\u001b[39m\u001b[38;5;124m'\u001b[39m \u001b[38;5;129;01min\u001b[39;00m stderr:\n\u001b[1;32m--> 155\u001b[0m     \u001b[38;5;28;01mraise\u001b[39;00m \u001b[38;5;167;01mIOError\u001b[39;00m(\u001b[38;5;124m'\u001b[39m\u001b[38;5;124mwkhtmltopdf reported an error:\u001b[39m\u001b[38;5;130;01m\\n\u001b[39;00m\u001b[38;5;124m'\u001b[39m \u001b[38;5;241m+\u001b[39m stderr)\n\u001b[0;32m    157\u001b[0m error_msg \u001b[38;5;241m=\u001b[39m stderr \u001b[38;5;129;01mor\u001b[39;00m \u001b[38;5;124m'\u001b[39m\u001b[38;5;124mUnknown Error\u001b[39m\u001b[38;5;124m'\u001b[39m\n\u001b[0;32m    158\u001b[0m \u001b[38;5;28;01mraise\u001b[39;00m \u001b[38;5;167;01mIOError\u001b[39;00m(\u001b[38;5;124m\"\u001b[39m\u001b[38;5;124mwkhtmltopdf exited with non-zero code \u001b[39m\u001b[38;5;132;01m{0}\u001b[39;00m\u001b[38;5;124m. error:\u001b[39m\u001b[38;5;130;01m\\n\u001b[39;00m\u001b[38;5;132;01m{1}\u001b[39;00m\u001b[38;5;124m\"\u001b[39m\u001b[38;5;241m.\u001b[39mformat(exit_code, error_msg))\n",
      "\u001b[1;31mOSError\u001b[0m: wkhtmltopdf reported an error:\nExit with code 1 due to network error: ConnectionRefusedError\r\n"
     ]
    }
   ],
   "source": [
    "import pdfkit\n",
    "\n",
    "url = \"http://127.0.0.1:8000/pdf_generate\"\n",
    "\n",
    "config = pdfkit.configuration(wkhtmltopdf=\"C:\\\\Program Files\\\\wkhtmltopdf\\\\bin\\\\wkhtmltopdf.exe\")\n",
    "\n",
    "pdfkit.from_url(url, \"out.pdf\", configuration=config)\n"
   ]
  }
 ],
 "metadata": {
  "kernelspec": {
   "display_name": "env",
   "language": "python",
   "name": "python3"
  },
  "language_info": {
   "codemirror_mode": {
    "name": "ipython",
    "version": 3
   },
   "file_extension": ".py",
   "mimetype": "text/x-python",
   "name": "python",
   "nbconvert_exporter": "python",
   "pygments_lexer": "ipython3",
   "version": "3.9.12"
  }
 },
 "nbformat": 4,
 "nbformat_minor": 2
}
